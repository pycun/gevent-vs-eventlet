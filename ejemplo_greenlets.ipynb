{
  "nbformat": 4,
  "nbformat_minor": 0,
  "metadata": {
    "colab": {
      "provenance": []
    },
    "kernelspec": {
      "name": "python3",
      "display_name": "Python 3"
    },
    "language_info": {
      "name": "python"
    }
  },
  "cells": [
    {
      "cell_type": "markdown",
      "source": [
        "# Ejemplo de Greenlets"
      ],
      "metadata": {
        "id": "o5TXKp8y0F1R"
      }
    },
    {
      "cell_type": "markdown",
      "source": [
        "Definimos dos funciones, una para cada uno de nuestros greenlets. Posteriormente, pasamos estas funciones en el método `greenlet()`\n",
        "\n",
        "**Es importante mencionar que dentro de cada funcion hacemos el switch al greenlet que definamos `gr2.switch()`**\n"
      ],
      "metadata": {
        "id": "UxKHiuyq0Qiz"
      }
    },
    {
      "cell_type": "code",
      "source": [
        "from greenlet import greenlet\n",
        "\n",
        "def test1():\n",
        "    print(\"[gr1] main  -> test1\")\n",
        "    gr2.switch()\n",
        "    print(\"[gr1] test1 <- test2\")\n",
        "    # return 'test1 done'\n",
        "    test1()\n",
        "\n",
        "\n",
        "def test2():\n",
        "    print(\"[gr2] test1 -> test2\")\n",
        "    gr1.switch()\n",
        "    print(\"This is never printed.\")\n",
        "\n",
        "\n",
        "# Inicializamos los dos greenlets\n",
        "gr1 = greenlet(test1)\n",
        "gr2 = greenlet(test2)"
      ],
      "metadata": {
        "id": "oJhPHDM3zaZe"
      },
      "execution_count": null,
      "outputs": []
    },
    {
      "cell_type": "markdown",
      "source": [
        "Comprobamos si los dos greenlets estan pendientes por resolver."
      ],
      "metadata": {
        "id": "Uv8oJ9CSz81P"
      }
    },
    {
      "cell_type": "code",
      "source": [
        "gr1.dead, gr2.dead"
      ],
      "metadata": {
        "id": "ZPgVeCybzmEK",
        "collapsed": true,
        "colab": {
          "base_uri": "https://localhost:8080/"
        },
        "outputId": "d0d5451c-0f4b-4e6e-f751-0372a910f760"
      },
      "execution_count": null,
      "outputs": [
        {
          "output_type": "execute_result",
          "data": {
            "text/plain": [
              "(False, False)"
            ]
          },
          "metadata": {},
          "execution_count": 7
        }
      ]
    },
    {
      "cell_type": "markdown",
      "source": [
        "\n",
        "\n",
        "---\n",
        "\n"
      ],
      "metadata": {
        "id": "L1t42BKG2vO5"
      }
    },
    {
      "cell_type": "markdown",
      "source": [
        "Inicialmente nos encontramos en el \"main greenlet\" y por lo tanto debemos llamar el metodo `switch()` para hacer el cambio al greenlet que queremos.\n",
        "\n",
        "> **El main greenlet es el unico que no es necesario creear.\n",
        "> Puede NO tener un greenlet padre y nunca puede estar muerto.**"
      ],
      "metadata": {
        "id": "Q-W3AREQ2Cs7"
      }
    },
    {
      "cell_type": "code",
      "source": [
        "gr1.switch()"
      ],
      "metadata": {
        "id": "IVIz9gXLziQr",
        "collapsed": true,
        "colab": {
          "base_uri": "https://localhost:8080/"
        },
        "outputId": "75f06556-a609-4063-c5da-6c01c6b51469"
      },
      "execution_count": null,
      "outputs": [
        {
          "output_type": "stream",
          "name": "stdout",
          "text": [
            "[gr1] main  -> test1\n",
            "[gr2] test1 -> test2\n",
            "[gr1] test1 <- test2\n",
            "[gr1] main  -> test1\n",
            "This is never printed.\n"
          ]
        }
      ]
    },
    {
      "cell_type": "markdown",
      "source": [
        "Podemos comprobar que el **gr1** a finalizado y esta pendiente el **gr2**."
      ],
      "metadata": {
        "id": "gWf4eZvR4QDk"
      }
    },
    {
      "cell_type": "code",
      "source": [
        "gr1.dead, gr2.dead"
      ],
      "metadata": {
        "id": "5W26hlZtzkd9",
        "collapsed": true,
        "colab": {
          "base_uri": "https://localhost:8080/"
        },
        "outputId": "707af5b6-1545-4af6-aca4-47aae34d8993"
      },
      "execution_count": null,
      "outputs": [
        {
          "output_type": "execute_result",
          "data": {
            "text/plain": [
              "(False, True)"
            ]
          },
          "metadata": {},
          "execution_count": 9
        }
      ]
    },
    {
      "cell_type": "markdown",
      "source": [
        "El **gr2** esta pendiente por completarse. Sin embargo, en ningun momento hemos vuelto a hacer el switch al **gr2**.\n",
        "\n",
        "\n",
        "> **Cuando un greenlet muere, la ejecución salta al greenlet padre.**\n",
        "\n",
        "Por lo anterior, entonces podemos hacerlo desde el main."
      ],
      "metadata": {
        "id": "gECnI3CF4IFO"
      }
    },
    {
      "cell_type": "code",
      "source": [
        "gr2.switch()"
      ],
      "metadata": {
        "id": "vMxHywjtzwyg",
        "collapsed": true,
        "colab": {
          "base_uri": "https://localhost:8080/"
        },
        "outputId": "8293fb25-bb9e-46f7-fd0f-023eed13c69f"
      },
      "execution_count": null,
      "outputs": [
        {
          "output_type": "stream",
          "name": "stdout",
          "text": [
            "This is never printed.\n"
          ]
        }
      ]
    },
    {
      "cell_type": "markdown",
      "source": [],
      "metadata": {
        "id": "IimCO8IKz0M3"
      }
    }
  ]
}